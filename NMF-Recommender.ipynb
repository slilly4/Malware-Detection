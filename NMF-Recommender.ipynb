{
 "cells": [
  {
   "cell_type": "markdown",
   "id": "331750cf-d2a7-48a4-8e2a-5bf533622d30",
   "metadata": {},
   "source": [
    "## Part 2: Non-Negative Matrix Factorization for Recommender Systems\n",
    "Data Science Student, University of Colorado, Boulder"
   ]
  },
  {
   "cell_type": "code",
   "execution_count": 12,
   "id": "a86cdd78-cf70-4d04-bfaa-1e29efa59062",
   "metadata": {},
   "outputs": [],
   "source": [
    "import pandas as pd\n",
    "import matplotlib.pyplot as plt\n",
    "import numpy as np\n",
    "from sklearn.decomposition import NMF\n",
    "from sklearn.metrics import accuracy_score, confusion_matrix, precision_score, recall_score, f1_score, ConfusionMatrixDisplay\n",
    "from scipy.sparse import coo_matrix, csr_matrix\n",
    "from collections import namedtuple"
   ]
  },
  {
   "cell_type": "code",
   "execution_count": 5,
   "id": "012df38e-9d0d-4122-bd73-7a29eed70a64",
   "metadata": {},
   "outputs": [],
   "source": [
    "MV_users = pd.read_csv('users.csv')\n",
    "MV_movies = pd.read_csv('movies.csv')\n",
    "train = pd.read_csv('train.csv')\n",
    "test = pd.read_csv('test.csv')"
   ]
  },
  {
   "cell_type": "code",
   "execution_count": 6,
   "id": "1793a53a-80b2-4353-96ef-541db2e8e071",
   "metadata": {},
   "outputs": [],
   "source": [
    "Data = namedtuple('Data', ['users','movies','train','test'])\n",
    "data = Data(MV_users, MV_movies, train, test)"
   ]
  },
  {
   "cell_type": "code",
   "execution_count": 27,
   "id": "689f3316-20b3-449a-840c-03303c75254e",
   "metadata": {},
   "outputs": [],
   "source": [
    "class RecSys():\n",
    "    def __init__(self,data):\n",
    "        self.data=data\n",
    "        self.allusers = list(self.data.users['uID'])\n",
    "        self.allmovies = list(self.data.movies['mID'])\n",
    "        self.genres = list(self.data.movies.columns.drop(['mID', 'title', 'year']))\n",
    "        self.mid2idx = dict(zip(self.data.movies.mID,list(range(len(self.data.movies)))))\n",
    "        self.uid2idx = dict(zip(self.data.users.uID,list(range(len(self.data.users)))))\n",
    "        self.Mr=self.rating_matrix()\n",
    "        self.Mm=None \n",
    "        self.sim=np.zeros((len(self.allmovies),len(self.allmovies)))\n",
    "        \n",
    "    def rating_matrix(self):\n",
    "        \"\"\"\n",
    "        Convert the rating matrix to numpy array of shape (#allusers,#allmovies)\n",
    "        \"\"\"\n",
    "        ind_movie = [self.mid2idx[x] for x in self.data.train.mID] \n",
    "        ind_user = [self.uid2idx[x] for x in self.data.train.uID]\n",
    "        rating_train = list(self.data.train.rating)\n",
    "        \n",
    "        return np.array(coo_matrix((rating_train, (ind_user, ind_movie)), shape=(len(self.allusers), len(self.allmovies))).toarray())\n",
    "\n",
    "    def rmse(self,yp):\n",
    "        yp[np.isnan(yp)]=3 #In case there is nan values in prediction, it will impute to 3.\n",
    "        yt=np.array(self.data.test.rating)\n",
    "        return np.sqrt(((yt-yp)**2).mean())\n",
    "    \n",
    "    def factorization(self):\n",
    "        \n",
    "\n",
    "        result = np.zeros((self.data.test.shape[0],))\n",
    "        \n",
    "        ratings = self.Mr.copy()\n",
    "        ratings[ratings==0] = 3\n",
    "        \n",
    "        nmf_model = NMF(n_components=25, random_state=0, init='random')\n",
    "        W = nmf_model.fit_transform(ratings)\n",
    "        H = nmf_model.components_\n",
    "        \n",
    "        predicted_ratings = np.dot(W, H)\n",
    "\n",
    "        scaler = MinMaxScaler(feature_range=(1, 5.5))\n",
    "        scaler.fit(predicted_ratings)\n",
    "        predicted_ratings = scaler.transform(predicted_ratings)\n",
    "        \n",
    "        for i in range(self.data.test.shape[0]):\n",
    "            pred = predicted_ratings[self.uid2idx[self.data.test[\"uID\"][i]]][self.mid2idx[self.data.test[\"mID\"][i]]]\n",
    "            result[i] = pred\n",
    "\n",
    "        #print(self.data.test)  \n",
    "        #print(result)\n",
    "        \n",
    "        return result"
   ]
  },
  {
   "cell_type": "code",
   "execution_count": 19,
   "id": "aa06dfd5-b47f-44d8-948f-c8b0a049802c",
   "metadata": {},
   "outputs": [],
   "source": [
    "np.random.seed(42)\n",
    "sample_train = train[:30000]\n",
    "sample_test = test[:30000]\n",
    "\n",
    "sample_MV_users = MV_users[(MV_users.uID.isin(sample_train.uID)) | (MV_users.uID.isin(sample_test.uID))]\n",
    "sample_MV_movies = MV_movies[(MV_movies.mID.isin(sample_train.mID)) | (MV_movies.mID.isin(sample_test.mID))]\n",
    "\n",
    "sample_data = Data(sample_MV_users, sample_MV_movies, sample_train, sample_test)"
   ]
  },
  {
   "cell_type": "code",
   "execution_count": 28,
   "id": "a24da454-eeba-4075-ab16-3b1469bb32fa",
   "metadata": {},
   "outputs": [],
   "source": [
    "rs = RecSys(sample_data)"
   ]
  },
  {
   "cell_type": "code",
   "execution_count": 29,
   "id": "f3803059-aab7-468e-bf34-7c1114dc2653",
   "metadata": {},
   "outputs": [
    {
     "name": "stderr",
     "output_type": "stream",
     "text": [
      "C:\\Users\\stephen\\anaconda3\\envs\\Py310\\lib\\site-packages\\sklearn\\decomposition\\_nmf.py:1665: ConvergenceWarning: Maximum number of iterations 200 reached. Increase it to improve convergence.\n",
      "  warnings.warn(\n"
     ]
    }
   ],
   "source": [
    "predictions = rs.factorization()"
   ]
  },
  {
   "cell_type": "code",
   "execution_count": 30,
   "id": "223fcbd2-1e13-499b-911b-45f47d11b549",
   "metadata": {},
   "outputs": [
    {
     "name": "stdout",
     "output_type": "stream",
     "text": [
      "1.356462346134449\n"
     ]
    }
   ],
   "source": [
    "print(rs.rmse(predictions))"
   ]
  },
  {
   "cell_type": "markdown",
   "id": "51209bfe-3ab7-45ed-8fa8-117da5e268af",
   "metadata": {},
   "source": [
    "1. Load the movie ratings data (as in the HW3-recommender-system) and use matrix factorization technique(s) and predict the missing ratings from the test data. Measure the RMSE. You should use sklearn library. [10 pts]\n",
    "> My baseline Root Mean Square Error of predicting all ratings as 3 is 1.259.  Unfortunately, my score using NMF is 1.356.  Clearly, higher error means worse performance.  RMSE is the average error between the predicted and true values.  This suggests that using NMF is worse than the baseline value.  "
   ]
  },
  {
   "cell_type": "markdown",
   "id": "f114c761-ad95-48b9-9c0e-fd7016d01224",
   "metadata": {},
   "source": [
    "2. Discuss the results and why sklearn's non-negative matrix facorization library did not work well compared to simple baseline or similarity-based methods we’ve done in Module 3. Can you suggest a way(s) to fix it? [10 pts]\n",
    "> I'm not completely certain of why NMF performed so poorly; however, my impression would be that NMF is picking up all of the null values, and those are greatly influencing the predicted results.  For instance, if I keep the null values as 0, I obtain a RMSE of 2.6.  However, when I impute that value to 3, then the result improves to 1.356.  This suggests to me that all of those 0s are skewing the results.  Perhaps a way to further improve the results would be to impute the user's average for each null value.  That will likely improve the results.  However, I think that interpretation might also be important to consider.  While it may be difficult to predict a user rating, it may be useful to look at the relative difference between the ratings.  For instance, the highest predicted values for a given user likely are the films that should be recommended, even if we don't predict them in the preferred scale (1-5) "
   ]
  },
  {
   "cell_type": "code",
   "execution_count": null,
   "id": "2a81a19c-f5b2-4efb-874e-ea6d96ac6738",
   "metadata": {},
   "outputs": [],
   "source": []
  }
 ],
 "metadata": {
  "kernelspec": {
   "display_name": "Python 3 (ipykernel)",
   "language": "python",
   "name": "python3"
  },
  "language_info": {
   "codemirror_mode": {
    "name": "ipython",
    "version": 3
   },
   "file_extension": ".py",
   "mimetype": "text/x-python",
   "name": "python",
   "nbconvert_exporter": "python",
   "pygments_lexer": "ipython3",
   "version": "3.10.11"
  }
 },
 "nbformat": 4,
 "nbformat_minor": 5
}
